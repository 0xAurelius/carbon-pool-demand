{
 "cells": [
  {
   "cell_type": "code",
   "execution_count": 1,
   "id": "1dbe8145-ef95-437d-af30-4e8a6ab2ecd2",
   "metadata": {},
   "outputs": [],
   "source": [
    "import pandas as pd\n",
    "import numpy as np\n",
    "import datetime as dt\n",
    "import plotly.express as px\n",
    "import pycountry\n",
    "from collections import defaultdict\n",
    "import requests"
   ]
  },
  {
   "cell_type": "markdown",
   "id": "d5342466-232a-44bd-8920-6cafd134a2ac",
   "metadata": {},
   "source": [
    "# Load Verra data "
   ]
  },
  {
   "cell_type": "code",
   "execution_count": 53,
   "id": "bba8a169-780b-4ce2-84ba-37972e7c977a",
   "metadata": {
    "tags": []
   },
   "outputs": [],
   "source": [
    "r = requests.post(\n",
    "    'https://registry.verra.org/uiapi/asset/asset/search?$maxResults=2000&$count=true&$skip=0&format=csv',\n",
    "    json={\"program\":\"VCS\",\"issuanceTypeCodes\":['ISSUE']}\n",
    ")\n",
    "rename_map = {\n",
    " 'issuanceDate':'Issuance Date', \n",
    " 'programObjectives': 'Sustainable Development Goals', \n",
    " 'instrumentType': 'Credit Type', \n",
    " 'vintageStart':'Vintage Start',\n",
    " 'vintageEnd':'Vintage End', \n",
    " 'reportingPeriodStart':'Reporting Period Start', \n",
    " 'reportingPeriodEnd':'Reporting Period End',\n",
    " 'resourceIdentifier':'ID', \n",
    " 'resourceName':'Name', \n",
    " 'region':'Region', \n",
    " 'country':'Country',\n",
    " 'protocolCategory': 'Project Type', \n",
    " 'protocol':'Methodology', \n",
    " 'totalVintageQuantity':'Total Vintage Quantity', \n",
    " 'quantity':'Quantity Issued',\n",
    " 'serialNumbers':'Serial Number', \n",
    " 'additionalCertifications': 'Additional Certifications', \n",
    " 'retiredCancelled':'Is Cancelled',\n",
    " 'retireOrCancelDate':'Retirement/Cancellation Date', \n",
    " 'retirementBeneficiary':'Retirement Beneficiary', \n",
    " 'retirementReason':'Retirement Reason',\n",
    " 'retirementDetails':'Retirement Details', \n",
    " 'inputTypes': 'Input Type', \n",
    " 'holdingIdentifier': 'Holding ID'\n",
    "}\n",
    "vcus = pd.DataFrame(r.json()['value']).rename(columns=rename_map)\n",
    "\n",
    "# Fixing up datetimes\n",
    "vcus['Vintage Start'] = pd.to_datetime(vcus['Vintage Start'])\n",
    "vcus['Vintage End'] = pd.to_datetime(vcus['Vintage End'])\n",
    "vcus['Issuance Date'] = pd.to_datetime(vcus['Issuance Date'])\n",
    "vcus['Retirement/Cancellation Date'] = pd.to_datetime(vcus['Retirement/Cancellation Date'])\n",
    "# Assgining vintage year\n",
    "vcus['Vintage'] = vcus['Vintage Start'].dt.year\n",
    "vcus['Issuance Year'] = vcus['Issuance Date'].dt.year\n",
    "# Assigning retirement age\n",
    "vcus['Days to Retirement'] = (vcus['Retirement/Cancellation Date'] - vcus['Issuance Date']).dt.days\n",
    "# Assigning staleness if not retired\n",
    "now = dt.datetime.now()\n",
    "vcus.loc[vcus['Days to Retirement'].isna(),'Staleness'] = (now-vcus[vcus['Days to Retirement'].isna()]['Issuance Date']).dt.days\n",
    "# Assigning retirement status \n",
    "vcus['Status'] = ['Retired' if row['Days to Retirement']>0 else 'Available' for i, row in vcus.iterrows()]\n",
    "# Some nice renaming since these are too verbose\n",
    "vcus = vcus.rename(columns={'Total Vintage Quantity': 'Vintage Quantity', 'Quantity Issued': 'Quantity'})\n",
    "# Toucan retirement credits\n",
    "vcus.loc[vcus['Retirement Details'].str.contains('TOUCAN').fillna(False), 'Toucan'] = True\n",
    "vcus['Toucan'] = vcus['Toucan'].fillna(False)\n",
    "vcus.loc[vcus['Toucan'], 'Toucan Bridger'] = \"https://polygonscan.com/address/\"+vcus.query('Toucan')['Retirement Beneficiary']\n",
    "# Toucan AM0001 methodology blacklist\n",
    "toucan_blacklist_date = dt.datetime(year=2021, month=12, day=13)\n",
    "vcus['Toucan Blacklisted'] = False\n",
    "vcus.loc[np.logical_and(vcus['Retirement/Cancellation Date']>=toucan_blacklist_date, vcus['Methodology']==\"AM0001\"),'Toucan Blacklisted'] = True\n",
    "# Building up an index for country codes\n",
    "vcus['Country'] = vcus['Country'].replace('South Korea', 'Korea, Republic of')\n",
    "country_index = defaultdict(str,{country:pycountry.countries.search_fuzzy(country)[0].alpha_3 for country in vcus.Country.astype(str).unique() if country!='nan'})\n",
    "# ... so we could have country codes for visualizations\n",
    "vcus['Country Code'] = [country_index[country] for country in vcus['Country']]\n",
    "# Are vintage batches ever larger than 1 year?\n",
    "vcus['Vintaged Batch Years'] = (vcus['Vintage End']-vcus['Vintage Start']).dt.days/365\n",
    "\n",
    "# Relevant day stuff\n",
    "last_time = dt.datetime.combine(dt.date.today(), dt.datetime.min.time())\n",
    "seven_day_start = last_time - dt.timedelta(days=7)\n",
    "last_seven_day_start = seven_day_start - dt.timedelta(days=7)\n",
    "thirty_day_start = last_time - dt.timedelta(days=30)\n",
    "last_thirty_day_start = thirty_day_start - dt.timedelta(days=30)\n",
    "tpool = vcus.query('Toucan and ~`Toucan Blacklisted`')\n",
    "\n",
    "# Seven day pool subsets    \n",
    "sd_pool = tpool.query(\"(`Retirement/Cancellation Date`>=@seven_day_start) and (`Retirement/Cancellation Date`<@last_time)\")\n",
    "last_sd_pool = tpool.query(\"(`Retirement/Cancellation Date`>=@last_seven_day_start) and (`Retirement/Cancellation Date`<@seven_day_start)\")\n",
    "# Thirty day pool subsets\n",
    "td_pool = tpool.query(\"(`Retirement/Cancellation Date`>=@thirty_day_start) and (`Retirement/Cancellation Date`<@last_time)\")\n",
    "last_td_pool = tpool.query(\"(`Retirement/Cancellation Date`>=@last_thirty_day_start) and (`Retirement/Cancellation Date`<@thirty_day_start)\")"
   ]
  },
  {
   "cell_type": "code",
   "execution_count": 55,
   "id": "14fa37d3-00a5-4105-a380-52e0412002cc",
   "metadata": {},
   "outputs": [
    {
     "data": {
      "text/plain": [
       "Index(['Issuance Date', 'Sustainable Development Goals', 'Credit Type',\n",
       "       'Vintage Start', 'Vintage End', 'Reporting Period Start',\n",
       "       'Reporting Period End', 'ID', 'Name', 'Region', 'Country',\n",
       "       'Project Type', 'Methodology', 'Vintage Quantity', 'Quantity',\n",
       "       'Serial Number', 'Additional Certifications', 'Is Cancelled',\n",
       "       'Retirement/Cancellation Date', 'Retirement Beneficiary',\n",
       "       'Retirement Reason', 'Retirement Details', 'Input Type', 'Holding ID',\n",
       "       'Vintage', 'Issuance Year', 'Days to Retirement', 'Staleness', 'Status',\n",
       "       'Toucan', 'Toucan Bridger', 'Toucan Blacklisted', 'Country Code',\n",
       "       'Vintaged Batch Years'],\n",
       "      dtype='object')"
      ]
     },
     "execution_count": 55,
     "metadata": {},
     "output_type": "execute_result"
    }
   ],
   "source": [
    "vcus.columns"
   ]
  },
  {
   "cell_type": "code",
   "execution_count": 56,
   "id": "bf51c073-fd56-4d99-8aa8-61b8eca93e46",
   "metadata": {},
   "outputs": [
    {
     "data": {
      "text/html": [
       "<div>\n",
       "<style scoped>\n",
       "    .dataframe tbody tr th:only-of-type {\n",
       "        vertical-align: middle;\n",
       "    }\n",
       "\n",
       "    .dataframe tbody tr th {\n",
       "        vertical-align: top;\n",
       "    }\n",
       "\n",
       "    .dataframe thead th {\n",
       "        text-align: right;\n",
       "    }\n",
       "</style>\n",
       "<table border=\"1\" class=\"dataframe\">\n",
       "  <thead>\n",
       "    <tr style=\"text-align: right;\">\n",
       "      <th></th>\n",
       "      <th>Project Type</th>\n",
       "      <th>Methodology</th>\n",
       "    </tr>\n",
       "  </thead>\n",
       "  <tbody>\n",
       "    <tr>\n",
       "      <th>0</th>\n",
       "      <td>Energy industries (renewable/non-renewable sou...</td>\n",
       "      <td>ACM0002</td>\n",
       "    </tr>\n",
       "    <tr>\n",
       "      <th>1</th>\n",
       "      <td>Agriculture Forestry and Other Land Use</td>\n",
       "      <td>AR-ACM0003</td>\n",
       "    </tr>\n",
       "    <tr>\n",
       "      <th>2</th>\n",
       "      <td>Energy industries (renewable/non-renewable sou...</td>\n",
       "      <td>ACM0002</td>\n",
       "    </tr>\n",
       "    <tr>\n",
       "      <th>3</th>\n",
       "      <td>Energy industries (renewable/non-renewable sou...</td>\n",
       "      <td>ACM0002</td>\n",
       "    </tr>\n",
       "    <tr>\n",
       "      <th>4</th>\n",
       "      <td>Energy industries (renewable/non-renewable sou...</td>\n",
       "      <td>AMS-I.E.</td>\n",
       "    </tr>\n",
       "    <tr>\n",
       "      <th>...</th>\n",
       "      <td>...</td>\n",
       "      <td>...</td>\n",
       "    </tr>\n",
       "    <tr>\n",
       "      <th>159881</th>\n",
       "      <td>Energy industries (renewable/non-renewable sou...</td>\n",
       "      <td>AMS-I.D.</td>\n",
       "    </tr>\n",
       "    <tr>\n",
       "      <th>159882</th>\n",
       "      <td>Energy industries (renewable/non-renewable sou...</td>\n",
       "      <td>AMS-I.D.</td>\n",
       "    </tr>\n",
       "    <tr>\n",
       "      <th>159883</th>\n",
       "      <td>Energy industries (renewable/non-renewable sou...</td>\n",
       "      <td>AMS-I.D.</td>\n",
       "    </tr>\n",
       "    <tr>\n",
       "      <th>159884</th>\n",
       "      <td>Energy industries (renewable/non-renewable sou...</td>\n",
       "      <td>AMS-I.D.</td>\n",
       "    </tr>\n",
       "    <tr>\n",
       "      <th>159885</th>\n",
       "      <td>Energy industries (renewable/non-renewable sou...</td>\n",
       "      <td>AMS-I.D.</td>\n",
       "    </tr>\n",
       "  </tbody>\n",
       "</table>\n",
       "<p>159886 rows × 2 columns</p>\n",
       "</div>"
      ],
      "text/plain": [
       "                                             Project Type Methodology\n",
       "0       Energy industries (renewable/non-renewable sou...     ACM0002\n",
       "1                 Agriculture Forestry and Other Land Use  AR-ACM0003\n",
       "2       Energy industries (renewable/non-renewable sou...     ACM0002\n",
       "3       Energy industries (renewable/non-renewable sou...     ACM0002\n",
       "4       Energy industries (renewable/non-renewable sou...    AMS-I.E.\n",
       "...                                                   ...         ...\n",
       "159881  Energy industries (renewable/non-renewable sou...    AMS-I.D.\n",
       "159882  Energy industries (renewable/non-renewable sou...    AMS-I.D.\n",
       "159883  Energy industries (renewable/non-renewable sou...    AMS-I.D.\n",
       "159884  Energy industries (renewable/non-renewable sou...    AMS-I.D.\n",
       "159885  Energy industries (renewable/non-renewable sou...    AMS-I.D.\n",
       "\n",
       "[159886 rows x 2 columns]"
      ]
     },
     "execution_count": 56,
     "metadata": {},
     "output_type": "execute_result"
    }
   ],
   "source": [
    "vcus[['Project Type', 'Methodology']]"
   ]
  },
  {
   "cell_type": "code",
   "execution_count": 57,
   "id": "96468834-e39d-4df2-a784-a797c4491d96",
   "metadata": {},
   "outputs": [
    {
     "data": {
      "text/plain": [
       "Project Type\n",
       "Agriculture Forestry and Other Land Use                                                                                      98023\n",
       "Agriculture Forestry and Other Land Use; Energy industries (renewable/non-renewable sources); Waste handling and disposal        1\n",
       "Chemical industry                                                                                                              749\n",
       "Chemical industry; Energy industries (renewable/non-renewable sources)                                                          92\n",
       "Construction; Energy industries (renewable/non-renewable sources)                                                              250\n",
       "Energy demand                                                                                                                  897\n",
       "Energy demand; Energy industries (renewable/non-renewable sources)                                                             136\n",
       "Energy demand; Waste handling and disposal                                                                                     141\n",
       "Energy distribution                                                                                                             63\n",
       "Energy industries (renewable/non-renewable sources)                                                                          51255\n",
       "Energy industries (renewable/non-renewable sources); Fugitive emissions from fuels (solid, oil and gas)                         23\n",
       "Energy industries (renewable/non-renewable sources); Livestock, enteric fermentation, and manure management                      2\n",
       "Energy industries (renewable/non-renewable sources); Manufacturing industries                                                  797\n",
       "Energy industries (renewable/non-renewable sources); Waste handling and disposal                                               691\n",
       "Fugitive emissions from fuels (solid, oil and gas)                                                                            1951\n",
       "Fugitive emissions from fuels (solid, oil and gas); Mining/mineral production                                                  157\n",
       "Fugitive emissions from production and consumption of halocarbons and sulphur hexafluoride                                     119\n",
       "Livestock, enteric fermentation, and manure management                                                                          48\n",
       "Manufacturing industries                                                                                                       781\n",
       "Metal production                                                                                                                72\n",
       "Mining/mineral production                                                                                                     1244\n",
       "Transport                                                                                                                       54\n",
       "Waste handling and disposal                                                                                                   2340\n",
       "Name: Project Type, dtype: int64"
      ]
     },
     "execution_count": 57,
     "metadata": {},
     "output_type": "execute_result"
    }
   ],
   "source": [
    "vcus.groupby('Project Type')['Project Type'].count()"
   ]
  },
  {
   "cell_type": "code",
   "execution_count": 58,
   "id": "f2865116-7f28-4648-a1c8-1c77f2c28ff3",
   "metadata": {},
   "outputs": [
    {
     "data": {
      "text/html": [
       "<div>\n",
       "<style scoped>\n",
       "    .dataframe tbody tr th:only-of-type {\n",
       "        vertical-align: middle;\n",
       "    }\n",
       "\n",
       "    .dataframe tbody tr th {\n",
       "        vertical-align: top;\n",
       "    }\n",
       "\n",
       "    .dataframe thead th {\n",
       "        text-align: right;\n",
       "    }\n",
       "</style>\n",
       "<table border=\"1\" class=\"dataframe\">\n",
       "  <thead>\n",
       "    <tr style=\"text-align: right;\">\n",
       "      <th></th>\n",
       "      <th>Issuance Date</th>\n",
       "      <th>Sustainable Development Goals</th>\n",
       "      <th>Credit Type</th>\n",
       "      <th>Vintage Start</th>\n",
       "      <th>Vintage End</th>\n",
       "      <th>Reporting Period Start</th>\n",
       "      <th>Reporting Period End</th>\n",
       "      <th>ID</th>\n",
       "      <th>Name</th>\n",
       "      <th>Region</th>\n",
       "      <th>...</th>\n",
       "      <th>Vintage</th>\n",
       "      <th>Issuance Year</th>\n",
       "      <th>Days to Retirement</th>\n",
       "      <th>Staleness</th>\n",
       "      <th>Status</th>\n",
       "      <th>Toucan</th>\n",
       "      <th>Toucan Bridger</th>\n",
       "      <th>Toucan Blacklisted</th>\n",
       "      <th>Country Code</th>\n",
       "      <th>Vintaged Batch Years</th>\n",
       "    </tr>\n",
       "  </thead>\n",
       "  <tbody>\n",
       "    <tr>\n",
       "      <th>0</th>\n",
       "      <td>2022-04-22</td>\n",
       "      <td>None</td>\n",
       "      <td>VCU</td>\n",
       "      <td>2020-01-01</td>\n",
       "      <td>2020-12-31</td>\n",
       "      <td>2020-01-01</td>\n",
       "      <td>2020-12-31</td>\n",
       "      <td>1987</td>\n",
       "      <td>GENNEIA WIND PROJECTS IN ARGENTINA</td>\n",
       "      <td>Latin America</td>\n",
       "      <td>...</td>\n",
       "      <td>2020</td>\n",
       "      <td>2022</td>\n",
       "      <td>NaN</td>\n",
       "      <td>0.0</td>\n",
       "      <td>Available</td>\n",
       "      <td>False</td>\n",
       "      <td>NaN</td>\n",
       "      <td>False</td>\n",
       "      <td>ARG</td>\n",
       "      <td>1.000000</td>\n",
       "    </tr>\n",
       "    <tr>\n",
       "      <th>1</th>\n",
       "      <td>2022-04-22</td>\n",
       "      <td>None</td>\n",
       "      <td>VCU</td>\n",
       "      <td>2016-01-13</td>\n",
       "      <td>2016-12-31</td>\n",
       "      <td>2016-01-13</td>\n",
       "      <td>2016-12-31</td>\n",
       "      <td>2498</td>\n",
       "      <td>Afforestation of degraded grasslands in Caazap...</td>\n",
       "      <td>Latin America</td>\n",
       "      <td>...</td>\n",
       "      <td>2016</td>\n",
       "      <td>2022</td>\n",
       "      <td>NaN</td>\n",
       "      <td>0.0</td>\n",
       "      <td>Available</td>\n",
       "      <td>False</td>\n",
       "      <td>NaN</td>\n",
       "      <td>False</td>\n",
       "      <td>PRY</td>\n",
       "      <td>0.967123</td>\n",
       "    </tr>\n",
       "    <tr>\n",
       "      <th>2</th>\n",
       "      <td>2022-04-22</td>\n",
       "      <td>None</td>\n",
       "      <td>VCU</td>\n",
       "      <td>2018-01-01</td>\n",
       "      <td>2018-03-31</td>\n",
       "      <td>2018-01-01</td>\n",
       "      <td>2018-03-31</td>\n",
       "      <td>536</td>\n",
       "      <td>Uluabat Hydroelectric Power Plant</td>\n",
       "      <td>Middle East</td>\n",
       "      <td>...</td>\n",
       "      <td>2018</td>\n",
       "      <td>2022</td>\n",
       "      <td>NaN</td>\n",
       "      <td>0.0</td>\n",
       "      <td>Available</td>\n",
       "      <td>False</td>\n",
       "      <td>NaN</td>\n",
       "      <td>False</td>\n",
       "      <td>TUR</td>\n",
       "      <td>0.243836</td>\n",
       "    </tr>\n",
       "    <tr>\n",
       "      <th>3</th>\n",
       "      <td>2022-04-22</td>\n",
       "      <td>None</td>\n",
       "      <td>VCU</td>\n",
       "      <td>2017-01-01</td>\n",
       "      <td>2017-12-31</td>\n",
       "      <td>2017-01-01</td>\n",
       "      <td>2017-12-31</td>\n",
       "      <td>536</td>\n",
       "      <td>Uluabat Hydroelectric Power Plant</td>\n",
       "      <td>Middle East</td>\n",
       "      <td>...</td>\n",
       "      <td>2017</td>\n",
       "      <td>2022</td>\n",
       "      <td>NaN</td>\n",
       "      <td>0.0</td>\n",
       "      <td>Available</td>\n",
       "      <td>False</td>\n",
       "      <td>NaN</td>\n",
       "      <td>False</td>\n",
       "      <td>TUR</td>\n",
       "      <td>0.997260</td>\n",
       "    </tr>\n",
       "    <tr>\n",
       "      <th>4</th>\n",
       "      <td>2022-04-22</td>\n",
       "      <td>None</td>\n",
       "      <td>VCU</td>\n",
       "      <td>2015-01-01</td>\n",
       "      <td>2015-12-31</td>\n",
       "      <td>2015-01-01</td>\n",
       "      <td>2015-12-31</td>\n",
       "      <td>54</td>\n",
       "      <td>Cenol and Telha Forte Ceramics Switching Fuel ...</td>\n",
       "      <td>Latin America</td>\n",
       "      <td>...</td>\n",
       "      <td>2015</td>\n",
       "      <td>2022</td>\n",
       "      <td>NaN</td>\n",
       "      <td>0.0</td>\n",
       "      <td>Available</td>\n",
       "      <td>False</td>\n",
       "      <td>NaN</td>\n",
       "      <td>False</td>\n",
       "      <td>BRA</td>\n",
       "      <td>0.997260</td>\n",
       "    </tr>\n",
       "  </tbody>\n",
       "</table>\n",
       "<p>5 rows × 34 columns</p>\n",
       "</div>"
      ],
      "text/plain": [
       "  Issuance Date Sustainable Development Goals Credit Type Vintage Start  \\\n",
       "0    2022-04-22                          None         VCU    2020-01-01   \n",
       "1    2022-04-22                          None         VCU    2016-01-13   \n",
       "2    2022-04-22                          None         VCU    2018-01-01   \n",
       "3    2022-04-22                          None         VCU    2017-01-01   \n",
       "4    2022-04-22                          None         VCU    2015-01-01   \n",
       "\n",
       "  Vintage End Reporting Period Start Reporting Period End    ID  \\\n",
       "0  2020-12-31             2020-01-01           2020-12-31  1987   \n",
       "1  2016-12-31             2016-01-13           2016-12-31  2498   \n",
       "2  2018-03-31             2018-01-01           2018-03-31   536   \n",
       "3  2017-12-31             2017-01-01           2017-12-31   536   \n",
       "4  2015-12-31             2015-01-01           2015-12-31    54   \n",
       "\n",
       "                                                Name         Region  ...  \\\n",
       "0                 GENNEIA WIND PROJECTS IN ARGENTINA  Latin America  ...   \n",
       "1  Afforestation of degraded grasslands in Caazap...  Latin America  ...   \n",
       "2                  Uluabat Hydroelectric Power Plant    Middle East  ...   \n",
       "3                  Uluabat Hydroelectric Power Plant    Middle East  ...   \n",
       "4  Cenol and Telha Forte Ceramics Switching Fuel ...  Latin America  ...   \n",
       "\n",
       "  Vintage Issuance Year Days to Retirement  Staleness     Status Toucan  \\\n",
       "0    2020          2022                NaN        0.0  Available  False   \n",
       "1    2016          2022                NaN        0.0  Available  False   \n",
       "2    2018          2022                NaN        0.0  Available  False   \n",
       "3    2017          2022                NaN        0.0  Available  False   \n",
       "4    2015          2022                NaN        0.0  Available  False   \n",
       "\n",
       "  Toucan Bridger  Toucan Blacklisted Country Code Vintaged Batch Years  \n",
       "0            NaN               False          ARG             1.000000  \n",
       "1            NaN               False          PRY             0.967123  \n",
       "2            NaN               False          TUR             0.243836  \n",
       "3            NaN               False          TUR             0.997260  \n",
       "4            NaN               False          BRA             0.997260  \n",
       "\n",
       "[5 rows x 34 columns]"
      ]
     },
     "execution_count": 58,
     "metadata": {},
     "output_type": "execute_result"
    }
   ],
   "source": [
    "vcus.head()"
   ]
  },
  {
   "cell_type": "markdown",
   "id": "3e9d3c02-78ea-4236-a3c4-77fda04cf125",
   "metadata": {},
   "source": [
    "# Additional Certifications flag"
   ]
  },
  {
   "cell_type": "code",
   "execution_count": 59,
   "id": "2a61973b-bf3a-427d-9398-7ce01b8f6a66",
   "metadata": {
    "tags": []
   },
   "outputs": [
    {
     "data": {
      "text/plain": [
       "CCB-Gold                                                                                                                                                                                                                                                                                                                                                                                                                                                                                                                                                                              47024\n",
       "Social Carbon                                                                                                                                                                                                                                                                                                                                                                                                                                                                                                                                                                          5371\n",
       "CCB-No Distinction                                                                                                                                                                                                                                                                                                                                                                                                                                                                                                                                                                     3771\n",
       "CCB-Silver                                                                                                                                                                                                                                                                                                                                                                                                                                                                                                                                                                             1693\n",
       "CCB-Biodiversity Gold; CCB-Climate Gold; CCB-Community Gold; CCB-Gold                                                                                                                                                                                                                                                                                                                                                                                                                                                                                                                   784\n",
       "CCB-Biodiversity Gold; CCB-Climate Gold; CCB-Gold                                                                                                                                                                                                                                                                                                                                                                                                                                                                                                                                       719\n",
       "01: No Poverty; 02: Zero Hunger; 03: Good Health and Well-being; 04: Quality Education; 05: Gender Equality; 06: Clean Water and Sanitation; 07: Affordable and Clean Energy; 08: Decent Work and Economic Growth; 09: Industry, Innovation and Infrastructure; 10: Reduced Inequalities; 11: Sustainable Cities and Communities; 12: Responsible Consumption and Production; 13: Climate Action; 14: Life Below Water; 15: Life on Land; 16: Peace, Justice, and Strong Institutions; 17: Partnerships for the Goals; CCB-Gold                                                         366\n",
       "CCB-Biodiversity Gold; CCB-Climate Gold; CCB-Community Gold                                                                                                                                                                                                                                                                                                                                                                                                                                                                                                                             355\n",
       "CCB-Community Gold                                                                                                                                                                                                                                                                                                                                                                                                                                                                                                                                                                      355\n",
       "CCB-Biodiversity Gold                                                                                                                                                                                                                                                                                                                                                                                                                                                                                                                                                                   317\n",
       "CCB-Biodiversity Gold; CCB-Climate Gold                                                                                                                                                                                                                                                                                                                                                                                                                                                                                                                                                 197\n",
       "CCB-Biodiversity Gold; CCB-Gold                                                                                                                                                                                                                                                                                                                                                                                                                                                                                                                                                         182\n",
       "01: No Poverty; 02: Zero Hunger; 03: Good Health and Well-being; 04: Quality Education; 05: Gender Equality; 06: Clean Water and Sanitation; 07: Affordable and Clean Energy; 08: Decent Work and Economic Growth; 09: Industry, Innovation and Infrastructure; 10: Reduced Inequalities; 11: Sustainable Cities and Communities; 12: Responsible Consumption and Production; 13: Climate Action; 14: Life Below Water; 15: Life on Land; 16: Peace, Justice, and Strong Institutions; 17: Partnerships for the Goals; CCB-Biodiversity Gold; CCB-Climate Gold; CCB-Community Gold      148\n",
       "01: No Poverty; 02: Zero Hunger; 03: Good Health and Well-being; 04: Quality Education; 05: Gender Equality; 06: Clean Water and Sanitation; 08: Decent Work and Economic Growth; 09: Industry, Innovation and Infrastructure; 10: Reduced Inequalities; 11: Sustainable Cities and Communities; 12: Responsible Consumption and Production; 13: Climate Action; 15: Life on Land; 16: Peace, Justice, and Strong Institutions; 17: Partnerships for the Goals; CCB-Biodiversity Gold; CCB-Climate Gold                                                                                 107\n",
       "CCB-Climate Gold                                                                                                                                                                                                                                                                                                                                                                                                                                                                                                                                                                         72\n",
       "CCB-Community Gold; CCB-Gold                                                                                                                                                                                                                                                                                                                                                                                                                                                                                                                                                             63\n",
       "CCB-Biodiversity Gold; CCB-Community Gold                                                                                                                                                                                                                                                                                                                                                                                                                                                                                                                                                60\n",
       "CORSIA                                                                                                                                                                                                                                                                                                                                                                                                                                                                                                                                                                                   44\n",
       "06: Clean Water and Sanitation; 13: Climate Action; 15: Life on Land; CCB-Biodiversity Gold                                                                                                                                                                                                                                                                                                                                                                                                                                                                                              32\n",
       "01: No Poverty; 02: Zero Hunger; 03: Good Health and Well-being; 04: Quality Education; 05: Gender Equality; 06: Clean Water and Sanitation; 07: Affordable and Clean Energy; 08: Decent Work and Economic Growth; 09: Industry, Innovation and Infrastructure; 10: Reduced Inequalities; 11: Sustainable Cities and Communities; 12: Responsible Consumption and Production; 13: Climate Action; 14: Life Below Water; 15: Life on Land; 16: Peace, Justice, and Strong Institutions; 17: Partnerships for the Goals; CCB-Biodiversity Gold; CCB-Climate Gold; CCB-Gold                 28\n",
       "CCB-Climate Gold; CCB-Community Gold                                                                                                                                                                                                                                                                                                                                                                                                                                                                                                                                                     16\n",
       "01: No Poverty; 03: Good Health and Well-being; 05: Gender Equality; 06: Clean Water and Sanitation; 07: Affordable and Clean Energy; 08: Decent Work and Economic Growth; 13: Climate Action; 15: Life on Land                                                                                                                                                                                                                                                                                                                                                                           2\n",
       "01: No Poverty; 02: Zero Hunger; 03: Good Health and Well-being; 04: Quality Education; 05: Gender Equality; 06: Clean Water and Sanitation; 08: Decent Work and Economic Growth; 09: Industry, Innovation and Infrastructure; 10: Reduced Inequalities; 11: Sustainable Cities and Communities; 12: Responsible Consumption and Production; 13: Climate Action; 15: Life on Land; 16: Peace, Justice, and Strong Institutions; 17: Partnerships for the Goals; CCB-Biodiversity Gold; CCB-Climate Gold; CCB-Gold                                                                         1\n",
       "Name: Additional Certifications, dtype: int64"
      ]
     },
     "execution_count": 59,
     "metadata": {},
     "output_type": "execute_result"
    }
   ],
   "source": [
    "vcus['Additional Certifications'].value_counts()"
   ]
  },
  {
   "cell_type": "code",
   "execution_count": 60,
   "id": "bb0ba27c-d0fa-4efb-acf4-10a8966cb96d",
   "metadata": {},
   "outputs": [],
   "source": [
    "vcus['has_ac'] = ~vcus['Additional Certifications'].isnull()"
   ]
  },
  {
   "cell_type": "code",
   "execution_count": 61,
   "id": "67990740-ebe8-4a20-bd55-7dcd8a524a68",
   "metadata": {
    "tags": []
   },
   "outputs": [
    {
     "data": {
      "text/plain": [
       "has_ac\n",
       "False    595437335\n",
       "True     311556281\n",
       "Name: Quantity, dtype: int64"
      ]
     },
     "execution_count": 61,
     "metadata": {},
     "output_type": "execute_result"
    }
   ],
   "source": [
    "vcus.groupby('has_ac')['Quantity'].sum()"
   ]
  },
  {
   "cell_type": "markdown",
   "id": "3c4e20d1-a4a9-40d9-af7b-56b217ac6895",
   "metadata": {},
   "source": [
    "# Label retired vs. unretired credits"
   ]
  },
  {
   "cell_type": "code",
   "execution_count": 62,
   "id": "fef1d2d1-115d-48f4-aea9-b601fbfc5e06",
   "metadata": {},
   "outputs": [
    {
     "data": {
      "text/plain": [
       "False    146802\n",
       "True      13084\n",
       "Name: Retirement/Cancellation Date, dtype: int64"
      ]
     },
     "execution_count": 62,
     "metadata": {},
     "output_type": "execute_result"
    }
   ],
   "source": [
    "vcus['Retirement/Cancellation Date'].isnull().value_counts()"
   ]
  },
  {
   "cell_type": "code",
   "execution_count": 70,
   "id": "9ee97554-9d21-4bb5-a87f-f0a0226bb96e",
   "metadata": {},
   "outputs": [],
   "source": [
    "rets = vcus[~vcus['Retirement/Cancellation Date'].isnull()]"
   ]
  },
  {
   "cell_type": "code",
   "execution_count": 71,
   "id": "d9868c6a-45e1-456e-83f5-b1e9dbb3252b",
   "metadata": {},
   "outputs": [
    {
     "data": {
      "text/plain": [
       "False    146802\n",
       "Name: Retirement/Cancellation Date, dtype: int64"
      ]
     },
     "execution_count": 71,
     "metadata": {},
     "output_type": "execute_result"
    }
   ],
   "source": [
    "rets['Retirement/Cancellation Date'].isnull().value_counts()"
   ]
  },
  {
   "cell_type": "markdown",
   "id": "bf3444b5-d5a5-4da4-b3cc-1c7f67ce5570",
   "metadata": {},
   "source": [
    "# Label tokenized credits"
   ]
  },
  {
   "cell_type": "code",
   "execution_count": 86,
   "id": "670e7747-3f19-42b9-8264-f2ccbd2bd16a",
   "metadata": {},
   "outputs": [],
   "source": [
    "rets = rets[~rets['Retirement Details'].str.contains('TOUCAN|C3T').fillna(False)]"
   ]
  },
  {
   "cell_type": "markdown",
   "id": "3375406a-82e5-45c4-965b-c7d49fb643d8",
   "metadata": {},
   "source": [
    "# Define Demand"
   ]
  },
  {
   "cell_type": "code",
   "execution_count": null,
   "id": "0c9d2b49-f173-4191-bb8c-bb5fec6f31c8",
   "metadata": {},
   "outputs": [],
   "source": []
  },
  {
   "cell_type": "markdown",
   "id": "ef8b94c8-78b4-4380-a6ba-b8080144bfa1",
   "metadata": {},
   "source": [
    "### Features\n",
    "- Categories (+ ACs)\n",
    "- Delta btwn issuance and retirement\n",
    "- Delta btwn issuance and vintage\n",
    "- Delta btwn vintage and retirement\n",
    "- % of blank retirements\n",
    "- % of issued credits retired (by project)\n",
    "\n",
    "Compare % of issued vs. retired against baseline avg for all of Verra"
   ]
  },
  {
   "cell_type": "code",
   "execution_count": 93,
   "id": "0b286a1a-ec3a-4f06-81ed-139eac5dca2c",
   "metadata": {},
   "outputs": [],
   "source": [
    "rets['issue_retire_delta'] = rets['Retirement/Cancellation Date'] - rets['Issuance Date']"
   ]
  },
  {
   "cell_type": "code",
   "execution_count": 88,
   "id": "fe243d13-e8d7-401a-beac-dbae4d115dbe",
   "metadata": {},
   "outputs": [],
   "source": [
    "rets['vintage_retire_delta'] = rets['Retirement/Cancellation Date'] - rets['Vintage Start']"
   ]
  },
  {
   "cell_type": "code",
   "execution_count": 94,
   "id": "2c9d7dce-4a97-4b46-9330-68b1c3469482",
   "metadata": {},
   "outputs": [],
   "source": [
    "rets['vintage_issuance_delta'] = rets['Issuance Date'] - rets['Vintage Start']"
   ]
  },
  {
   "cell_type": "code",
   "execution_count": 91,
   "id": "dd6200d7-5678-4d28-b373-366f557771e3",
   "metadata": {},
   "outputs": [
    {
     "data": {
      "text/plain": [
       "71 days      1329\n",
       "1 days       1171\n",
       "320 days      940\n",
       "70 days       917\n",
       "72 days       890\n",
       "             ... \n",
       "3842 days       1\n",
       "3766 days       1\n",
       "2308 days       1\n",
       "3716 days       1\n",
       "2883 days       1\n",
       "Name: issue_retire_delta, Length: 3533, dtype: int64"
      ]
     },
     "execution_count": 91,
     "metadata": {},
     "output_type": "execute_result"
    }
   ],
   "source": [
    "rets['issue_retire_delta'].value_counts()"
   ]
  },
  {
   "cell_type": "code",
   "execution_count": 92,
   "id": "14344e09-88b4-438b-8100-b30b4b4fd814",
   "metadata": {},
   "outputs": [
    {
     "data": {
      "text/plain": [
       "1206 days    2132\n",
       "1207 days    1748\n",
       "1208 days    1642\n",
       "2301 days    1090\n",
       "1209 days     791\n",
       "             ... \n",
       "6213 days       1\n",
       "6708 days       1\n",
       "4812 days       1\n",
       "4755 days       1\n",
       "5087 days       1\n",
       "Name: vintage_retire_delta, Length: 5538, dtype: int64"
      ]
     },
     "execution_count": 92,
     "metadata": {},
     "output_type": "execute_result"
    }
   ],
   "source": [
    "rets['vintage_retire_delta'].value_counts()"
   ]
  },
  {
   "cell_type": "code",
   "execution_count": 97,
   "id": "f0ea7ecf-8759-446f-ad4e-2874eec387a1",
   "metadata": {},
   "outputs": [
    {
     "data": {
      "text/plain": [
       "2303 days    5126\n",
       "1923 days    3577\n",
       "3644 days    3525\n",
       "1129 days    3415\n",
       "1135 days    2947\n",
       "             ... \n",
       "766 days        1\n",
       "4733 days       1\n",
       "4597 days       1\n",
       "1309 days       1\n",
       "145 days        1\n",
       "Name: vintage_issuance_delta, Length: 3267, dtype: int64"
      ]
     },
     "execution_count": 97,
     "metadata": {},
     "output_type": "execute_result"
    }
   ],
   "source": [
    "rets['vintage_issuance_delta'].value_counts()"
   ]
  },
  {
   "cell_type": "code",
   "execution_count": 98,
   "id": "d937e3f2-6105-40fa-b9d1-103abb166cbc",
   "metadata": {},
   "outputs": [],
   "source": [
    "rets['is_blank'] = rets['Retirement Beneficiary'].isnull()"
   ]
  },
  {
   "cell_type": "code",
   "execution_count": 100,
   "id": "6685857e-9711-4a7b-8b82-4e142e71dd9e",
   "metadata": {},
   "outputs": [
    {
     "data": {
      "text/plain": [
       "False    73238\n",
       "True     72654\n",
       "Name: is_blank, dtype: int64"
      ]
     },
     "execution_count": 100,
     "metadata": {},
     "output_type": "execute_result"
    }
   ],
   "source": [
    "rets['is_blank'].value_counts()"
   ]
  },
  {
   "cell_type": "code",
   "execution_count": null,
   "id": "05dc8709-7bb3-4dc3-82e8-e4e304888b1a",
   "metadata": {},
   "outputs": [],
   "source": []
  }
 ],
 "metadata": {
  "kernelspec": {
   "display_name": "Python 3 (ipykernel)",
   "language": "python",
   "name": "python3"
  },
  "language_info": {
   "codemirror_mode": {
    "name": "ipython",
    "version": 3
   },
   "file_extension": ".py",
   "mimetype": "text/x-python",
   "name": "python",
   "nbconvert_exporter": "python",
   "pygments_lexer": "ipython3",
   "version": "3.10.4"
  }
 },
 "nbformat": 4,
 "nbformat_minor": 5
}
