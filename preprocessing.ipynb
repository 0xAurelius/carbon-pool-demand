{
 "cells": [
  {
   "cell_type": "code",
   "execution_count": 297,
   "id": "1dbe8145-ef95-437d-af30-4e8a6ab2ecd2",
   "metadata": {},
   "outputs": [],
   "source": [
    "import pandas as pd\n",
    "import numpy as np\n",
    "import datetime as dt\n",
    "import plotly.express as px\n",
    "import plotly.graph_objects as go\n",
    "import pycountry\n",
    "from collections import defaultdict\n",
    "import requests\n"
   ]
  },
  {
   "cell_type": "markdown",
   "id": "d5342466-232a-44bd-8920-6cafd134a2ac",
   "metadata": {},
   "source": [
    "# Load Verra data "
   ]
  },
  {
   "cell_type": "code",
   "execution_count": 2,
   "id": "bba8a169-780b-4ce2-84ba-37972e7c977a",
   "metadata": {
    "tags": []
   },
   "outputs": [],
   "source": [
    "r = requests.post(\n",
    "    'https://registry.verra.org/uiapi/asset/asset/search?$maxResults=2000&$count=true&$skip=0&format=csv',\n",
    "    json={\"program\":\"VCS\",\"issuanceTypeCodes\":['ISSUE']}\n",
    ")\n",
    "rename_map = {\n",
    " 'issuanceDate':'Issuance Date', \n",
    " 'programObjectives': 'Sustainable Development Goals', \n",
    " 'instrumentType': 'Credit Type', \n",
    " 'vintageStart':'Vintage Start',\n",
    " 'vintageEnd':'Vintage End', \n",
    " 'reportingPeriodStart':'Reporting Period Start', \n",
    " 'reportingPeriodEnd':'Reporting Period End',\n",
    " 'resourceIdentifier':'ID', \n",
    " 'resourceName':'Name', \n",
    " 'region':'Region', \n",
    " 'country':'Country',\n",
    " 'protocolCategory': 'Project Type', \n",
    " 'protocol':'Methodology', \n",
    " 'totalVintageQuantity':'Total Vintage Quantity', \n",
    " 'quantity':'Quantity Issued',\n",
    " 'serialNumbers':'Serial Number', \n",
    " 'additionalCertifications': 'Additional Certifications', \n",
    " 'retiredCancelled':'Is Cancelled',\n",
    " 'retireOrCancelDate':'Retirement/Cancellation Date', \n",
    " 'retirementBeneficiary':'Retirement Beneficiary', \n",
    " 'retirementReason':'Retirement Reason',\n",
    " 'retirementDetails':'Retirement Details', \n",
    " 'inputTypes': 'Input Type', \n",
    " 'holdingIdentifier': 'Holding ID'\n",
    "}\n",
    "vcus = pd.DataFrame(r.json()['value']).rename(columns=rename_map)\n",
    "\n",
    "# Fixing up datetimes\n",
    "vcus['Vintage Start'] = pd.to_datetime(vcus['Vintage Start'])\n",
    "vcus['Vintage End'] = pd.to_datetime(vcus['Vintage End'])\n",
    "vcus['Issuance Date'] = pd.to_datetime(vcus['Issuance Date'])\n",
    "vcus['Retirement/Cancellation Date'] = pd.to_datetime(vcus['Retirement/Cancellation Date'])\n",
    "# Assgining vintage year\n",
    "vcus['Vintage'] = vcus['Vintage Start'].dt.year\n",
    "vcus['Issuance Year'] = vcus['Issuance Date'].dt.year\n",
    "# Assigning retirement age\n",
    "vcus['Days to Retirement'] = (vcus['Retirement/Cancellation Date'] - vcus['Issuance Date']).dt.days\n",
    "# Assigning staleness if not retired\n",
    "now = dt.datetime.now()\n",
    "vcus.loc[vcus['Days to Retirement'].isna(),'Staleness'] = (now-vcus[vcus['Days to Retirement'].isna()]['Issuance Date']).dt.days\n",
    "# Assigning retirement status \n",
    "vcus['Status'] = ['Retired' if row['Days to Retirement']>0 else 'Available' for i, row in vcus.iterrows()]\n",
    "# Some nice renaming since these are too verbose\n",
    "vcus = vcus.rename(columns={'Total Vintage Quantity': 'Vintage Quantity', 'Quantity Issued': 'Quantity'})\n",
    "# Toucan retirement credits\n",
    "vcus.loc[vcus['Retirement Details'].str.contains('TOUCAN').fillna(False), 'Toucan'] = True\n",
    "vcus['Toucan'] = vcus['Toucan'].fillna(False)\n",
    "vcus.loc[vcus['Toucan'], 'Toucan Bridger'] = \"https://polygonscan.com/address/\"+vcus.query('Toucan')['Retirement Beneficiary']\n",
    "# Toucan AM0001 methodology blacklist\n",
    "toucan_blacklist_date = dt.datetime(year=2021, month=12, day=13)\n",
    "vcus['Toucan Blacklisted'] = False\n",
    "vcus.loc[np.logical_and(vcus['Retirement/Cancellation Date']>=toucan_blacklist_date, vcus['Methodology']==\"AM0001\"),'Toucan Blacklisted'] = True\n",
    "# Building up an index for country codes\n",
    "vcus['Country'] = vcus['Country'].replace('South Korea', 'Korea, Republic of')\n",
    "country_index = defaultdict(str,{country:pycountry.countries.search_fuzzy(country)[0].alpha_3 for country in vcus.Country.astype(str).unique() if country!='nan'})\n",
    "# ... so we could have country codes for visualizations\n",
    "vcus['Country Code'] = [country_index[country] for country in vcus['Country']]\n",
    "# Are vintage batches ever larger than 1 year?\n",
    "vcus['Vintaged Batch Years'] = (vcus['Vintage End']-vcus['Vintage Start']).dt.days/365\n",
    "\n",
    "# Relevant day stuff\n",
    "last_time = dt.datetime.combine(dt.date.today(), dt.datetime.min.time())\n",
    "seven_day_start = last_time - dt.timedelta(days=7)\n",
    "last_seven_day_start = seven_day_start - dt.timedelta(days=7)\n",
    "thirty_day_start = last_time - dt.timedelta(days=30)\n",
    "last_thirty_day_start = thirty_day_start - dt.timedelta(days=30)\n",
    "tpool = vcus.query('Toucan and ~`Toucan Blacklisted`')\n",
    "\n",
    "# Seven day pool subsets    \n",
    "sd_pool = tpool.query(\"(`Retirement/Cancellation Date`>=@seven_day_start) and (`Retirement/Cancellation Date`<@last_time)\")\n",
    "last_sd_pool = tpool.query(\"(`Retirement/Cancellation Date`>=@last_seven_day_start) and (`Retirement/Cancellation Date`<@seven_day_start)\")\n",
    "# Thirty day pool subsets\n",
    "td_pool = tpool.query(\"(`Retirement/Cancellation Date`>=@thirty_day_start) and (`Retirement/Cancellation Date`<@last_time)\")\n",
    "last_td_pool = tpool.query(\"(`Retirement/Cancellation Date`>=@last_thirty_day_start) and (`Retirement/Cancellation Date`<@thirty_day_start)\")"
   ]
  },
  {
   "cell_type": "code",
   "execution_count": 354,
   "id": "612596f0-9b90-4697-809c-198abe459f5a",
   "metadata": {},
   "outputs": [],
   "source": [
    "vcus['ID'] = vcus['ID'].astype(int)"
   ]
  },
  {
   "cell_type": "code",
   "execution_count": 355,
   "id": "14fa37d3-00a5-4105-a380-52e0412002cc",
   "metadata": {},
   "outputs": [
    {
     "data": {
      "text/plain": [
       "Index(['Issuance Date', 'Sustainable Development Goals', 'Credit Type',\n",
       "       'Vintage Start', 'Vintage End', 'Reporting Period Start',\n",
       "       'Reporting Period End', 'ID', 'Name', 'Region', 'Country',\n",
       "       'Project Type', 'Methodology', 'Vintage Quantity', 'Quantity',\n",
       "       'Serial Number', 'Additional Certifications', 'Is Cancelled',\n",
       "       'Retirement/Cancellation Date', 'Retirement Beneficiary',\n",
       "       'Retirement Reason', 'Retirement Details', 'Input Type', 'Holding ID',\n",
       "       'Vintage', 'Issuance Year', 'Days to Retirement', 'Staleness', 'Status',\n",
       "       'Toucan', 'Toucan Bridger', 'Toucan Blacklisted', 'Country Code',\n",
       "       'Vintaged Batch Years', 'has_ac'],\n",
       "      dtype='object')"
      ]
     },
     "execution_count": 355,
     "metadata": {},
     "output_type": "execute_result"
    }
   ],
   "source": [
    "vcus.columns"
   ]
  },
  {
   "cell_type": "code",
   "execution_count": 356,
   "id": "96468834-e39d-4df2-a784-a797c4491d96",
   "metadata": {},
   "outputs": [
    {
     "data": {
      "text/plain": [
       "Project Type\n",
       "Agriculture Forestry and Other Land Use                                                                                      98029\n",
       "Agriculture Forestry and Other Land Use; Energy industries (renewable/non-renewable sources); Waste handling and disposal        1\n",
       "Chemical industry                                                                                                              749\n",
       "Chemical industry; Energy industries (renewable/non-renewable sources)                                                          92\n",
       "Construction; Energy industries (renewable/non-renewable sources)                                                              250\n",
       "Energy demand                                                                                                                  897\n",
       "Energy demand; Energy industries (renewable/non-renewable sources)                                                             136\n",
       "Energy demand; Waste handling and disposal                                                                                     141\n",
       "Energy distribution                                                                                                             63\n",
       "Energy industries (renewable/non-renewable sources)                                                                          51255\n",
       "Energy industries (renewable/non-renewable sources); Fugitive emissions from fuels (solid, oil and gas)                         23\n",
       "Energy industries (renewable/non-renewable sources); Livestock, enteric fermentation, and manure management                      2\n",
       "Energy industries (renewable/non-renewable sources); Manufacturing industries                                                  797\n",
       "Energy industries (renewable/non-renewable sources); Waste handling and disposal                                               691\n",
       "Fugitive emissions from fuels (solid, oil and gas)                                                                            1951\n",
       "Fugitive emissions from fuels (solid, oil and gas); Mining/mineral production                                                  157\n",
       "Fugitive emissions from production and consumption of halocarbons and sulphur hexafluoride                                     119\n",
       "Livestock, enteric fermentation, and manure management                                                                          48\n",
       "Manufacturing industries                                                                                                       781\n",
       "Metal production                                                                                                                72\n",
       "Mining/mineral production                                                                                                     1244\n",
       "Transport                                                                                                                       54\n",
       "Waste handling and disposal                                                                                                   2340\n",
       "Name: Project Type, dtype: int64"
      ]
     },
     "execution_count": 356,
     "metadata": {},
     "output_type": "execute_result"
    }
   ],
   "source": [
    "vcus.groupby('Project Type')['Project Type'].count()"
   ]
  },
  {
   "cell_type": "markdown",
   "id": "3e9d3c02-78ea-4236-a3c4-77fda04cf125",
   "metadata": {},
   "source": [
    "# Additional Certifications flag"
   ]
  },
  {
   "cell_type": "code",
   "execution_count": 357,
   "id": "2a61973b-bf3a-427d-9398-7ce01b8f6a66",
   "metadata": {
    "tags": []
   },
   "outputs": [
    {
     "data": {
      "text/plain": [
       "CCB-Gold                                                                                                                                                                                                                                                                                                                                                                                                                                                                                                                                                                              47026\n",
       "Social Carbon                                                                                                                                                                                                                                                                                                                                                                                                                                                                                                                                                                          5371\n",
       "CCB-No Distinction                                                                                                                                                                                                                                                                                                                                                                                                                                                                                                                                                                     3771\n",
       "CCB-Silver                                                                                                                                                                                                                                                                                                                                                                                                                                                                                                                                                                             1693\n",
       "CCB-Biodiversity Gold; CCB-Climate Gold; CCB-Community Gold; CCB-Gold                                                                                                                                                                                                                                                                                                                                                                                                                                                                                                                   784\n",
       "CCB-Biodiversity Gold; CCB-Climate Gold; CCB-Gold                                                                                                                                                                                                                                                                                                                                                                                                                                                                                                                                       719\n",
       "01: No Poverty; 02: Zero Hunger; 03: Good Health and Well-being; 04: Quality Education; 05: Gender Equality; 06: Clean Water and Sanitation; 07: Affordable and Clean Energy; 08: Decent Work and Economic Growth; 09: Industry, Innovation and Infrastructure; 10: Reduced Inequalities; 11: Sustainable Cities and Communities; 12: Responsible Consumption and Production; 13: Climate Action; 14: Life Below Water; 15: Life on Land; 16: Peace, Justice, and Strong Institutions; 17: Partnerships for the Goals; CCB-Gold                                                         366\n",
       "CCB-Biodiversity Gold; CCB-Climate Gold; CCB-Community Gold                                                                                                                                                                                                                                                                                                                                                                                                                                                                                                                             355\n",
       "CCB-Community Gold                                                                                                                                                                                                                                                                                                                                                                                                                                                                                                                                                                      355\n",
       "CCB-Biodiversity Gold                                                                                                                                                                                                                                                                                                                                                                                                                                                                                                                                                                   317\n",
       "CCB-Biodiversity Gold; CCB-Climate Gold                                                                                                                                                                                                                                                                                                                                                                                                                                                                                                                                                 199\n",
       "CCB-Biodiversity Gold; CCB-Gold                                                                                                                                                                                                                                                                                                                                                                                                                                                                                                                                                         182\n",
       "01: No Poverty; 02: Zero Hunger; 03: Good Health and Well-being; 04: Quality Education; 05: Gender Equality; 06: Clean Water and Sanitation; 07: Affordable and Clean Energy; 08: Decent Work and Economic Growth; 09: Industry, Innovation and Infrastructure; 10: Reduced Inequalities; 11: Sustainable Cities and Communities; 12: Responsible Consumption and Production; 13: Climate Action; 14: Life Below Water; 15: Life on Land; 16: Peace, Justice, and Strong Institutions; 17: Partnerships for the Goals; CCB-Biodiversity Gold; CCB-Climate Gold; CCB-Community Gold      148\n",
       "01: No Poverty; 02: Zero Hunger; 03: Good Health and Well-being; 04: Quality Education; 05: Gender Equality; 06: Clean Water and Sanitation; 08: Decent Work and Economic Growth; 09: Industry, Innovation and Infrastructure; 10: Reduced Inequalities; 11: Sustainable Cities and Communities; 12: Responsible Consumption and Production; 13: Climate Action; 15: Life on Land; 16: Peace, Justice, and Strong Institutions; 17: Partnerships for the Goals; CCB-Biodiversity Gold; CCB-Climate Gold                                                                                 107\n",
       "CCB-Climate Gold                                                                                                                                                                                                                                                                                                                                                                                                                                                                                                                                                                         72\n",
       "CCB-Community Gold; CCB-Gold                                                                                                                                                                                                                                                                                                                                                                                                                                                                                                                                                             63\n",
       "CCB-Biodiversity Gold; CCB-Community Gold                                                                                                                                                                                                                                                                                                                                                                                                                                                                                                                                                60\n",
       "CORSIA                                                                                                                                                                                                                                                                                                                                                                                                                                                                                                                                                                                   44\n",
       "06: Clean Water and Sanitation; 13: Climate Action; 15: Life on Land; CCB-Biodiversity Gold                                                                                                                                                                                                                                                                                                                                                                                                                                                                                              32\n",
       "01: No Poverty; 02: Zero Hunger; 03: Good Health and Well-being; 04: Quality Education; 05: Gender Equality; 06: Clean Water and Sanitation; 07: Affordable and Clean Energy; 08: Decent Work and Economic Growth; 09: Industry, Innovation and Infrastructure; 10: Reduced Inequalities; 11: Sustainable Cities and Communities; 12: Responsible Consumption and Production; 13: Climate Action; 14: Life Below Water; 15: Life on Land; 16: Peace, Justice, and Strong Institutions; 17: Partnerships for the Goals; CCB-Biodiversity Gold; CCB-Climate Gold; CCB-Gold                 28\n",
       "CCB-Climate Gold; CCB-Community Gold                                                                                                                                                                                                                                                                                                                                                                                                                                                                                                                                                     16\n",
       "01: No Poverty; 03: Good Health and Well-being; 05: Gender Equality; 06: Clean Water and Sanitation; 07: Affordable and Clean Energy; 08: Decent Work and Economic Growth; 13: Climate Action; 15: Life on Land                                                                                                                                                                                                                                                                                                                                                                           2\n",
       "01: No Poverty; 02: Zero Hunger; 03: Good Health and Well-being; 04: Quality Education; 05: Gender Equality; 06: Clean Water and Sanitation; 08: Decent Work and Economic Growth; 09: Industry, Innovation and Infrastructure; 10: Reduced Inequalities; 11: Sustainable Cities and Communities; 12: Responsible Consumption and Production; 13: Climate Action; 15: Life on Land; 16: Peace, Justice, and Strong Institutions; 17: Partnerships for the Goals; CCB-Biodiversity Gold; CCB-Climate Gold; CCB-Gold                                                                         1\n",
       "Name: Additional Certifications, dtype: int64"
      ]
     },
     "execution_count": 357,
     "metadata": {},
     "output_type": "execute_result"
    }
   ],
   "source": [
    "vcus['Additional Certifications'].value_counts()"
   ]
  },
  {
   "cell_type": "code",
   "execution_count": 358,
   "id": "bb0ba27c-d0fa-4efb-acf4-10a8966cb96d",
   "metadata": {},
   "outputs": [],
   "source": [
    "vcus['has_ac'] = ~vcus['Additional Certifications'].isnull()"
   ]
  },
  {
   "cell_type": "code",
   "execution_count": 359,
   "id": "67990740-ebe8-4a20-bd55-7dcd8a524a68",
   "metadata": {
    "tags": []
   },
   "outputs": [
    {
     "data": {
      "text/plain": [
       "has_ac\n",
       "False    595439360\n",
       "True     311556281\n",
       "Name: Quantity, dtype: int64"
      ]
     },
     "execution_count": 359,
     "metadata": {},
     "output_type": "execute_result"
    }
   ],
   "source": [
    "vcus.groupby('has_ac')['Quantity'].sum()"
   ]
  },
  {
   "cell_type": "markdown",
   "id": "3c4e20d1-a4a9-40d9-af7b-56b217ac6895",
   "metadata": {},
   "source": [
    "# Label retired vs. unretired credits"
   ]
  },
  {
   "cell_type": "code",
   "execution_count": 360,
   "id": "fef1d2d1-115d-48f4-aea9-b601fbfc5e06",
   "metadata": {},
   "outputs": [
    {
     "data": {
      "text/plain": [
       "False    146804\n",
       "True      13088\n",
       "Name: Retirement/Cancellation Date, dtype: int64"
      ]
     },
     "execution_count": 360,
     "metadata": {},
     "output_type": "execute_result"
    }
   ],
   "source": [
    "vcus['Retirement/Cancellation Date'].isnull().value_counts()"
   ]
  },
  {
   "cell_type": "code",
   "execution_count": 361,
   "id": "9ee97554-9d21-4bb5-a87f-f0a0226bb96e",
   "metadata": {},
   "outputs": [],
   "source": [
    "rets = vcus[~vcus['Retirement/Cancellation Date'].isnull()]"
   ]
  },
  {
   "cell_type": "code",
   "execution_count": 362,
   "id": "d9868c6a-45e1-456e-83f5-b1e9dbb3252b",
   "metadata": {},
   "outputs": [
    {
     "data": {
      "text/plain": [
       "False    146804\n",
       "Name: Retirement/Cancellation Date, dtype: int64"
      ]
     },
     "execution_count": 362,
     "metadata": {},
     "output_type": "execute_result"
    }
   ],
   "source": [
    "rets['Retirement/Cancellation Date'].isnull().value_counts()"
   ]
  },
  {
   "cell_type": "markdown",
   "id": "bf3444b5-d5a5-4da4-b3cc-1c7f67ce5570",
   "metadata": {},
   "source": [
    "# Label tokenized credits"
   ]
  },
  {
   "cell_type": "code",
   "execution_count": 363,
   "id": "670e7747-3f19-42b9-8264-f2ccbd2bd16a",
   "metadata": {},
   "outputs": [],
   "source": [
    "rets = rets[~rets['Retirement Details'].str.contains('TOUCAN|C3T').fillna(False)]"
   ]
  },
  {
   "cell_type": "markdown",
   "id": "3375406a-82e5-45c4-965b-c7d49fb643d8",
   "metadata": {},
   "source": [
    "# Define Demand"
   ]
  },
  {
   "cell_type": "markdown",
   "id": "ef8b94c8-78b4-4380-a6ba-b8080144bfa1",
   "metadata": {},
   "source": [
    "### Features\n",
    "- Categories (+ ACs)\n",
    "- Delta btwn issuance and retirement\n",
    "- Delta btwn issuance and vintage\n",
    "- Delta btwn vintage and retirement\n",
    "- % of blank retirements\n",
    "- % of issued credits retired (by project)\n",
    "\n",
    "Compare % of issued vs. retired against baseline avg for all of Verra"
   ]
  },
  {
   "cell_type": "code",
   "execution_count": 364,
   "id": "0b286a1a-ec3a-4f06-81ed-139eac5dca2c",
   "metadata": {},
   "outputs": [],
   "source": [
    "rets['issue_retire_delta'] = rets['Retirement/Cancellation Date'] - rets['Issuance Date']"
   ]
  },
  {
   "cell_type": "code",
   "execution_count": 365,
   "id": "fe243d13-e8d7-401a-beac-dbae4d115dbe",
   "metadata": {},
   "outputs": [],
   "source": [
    "rets['vintage_retire_delta'] = rets['Retirement/Cancellation Date'] - rets['Vintage Start']"
   ]
  },
  {
   "cell_type": "code",
   "execution_count": 366,
   "id": "2c9d7dce-4a97-4b46-9330-68b1c3469482",
   "metadata": {},
   "outputs": [],
   "source": [
    "rets['vintage_issuance_delta'] = rets['Issuance Date'] - rets['Vintage Start']"
   ]
  },
  {
   "cell_type": "code",
   "execution_count": 367,
   "id": "dd6200d7-5678-4d28-b373-366f557771e3",
   "metadata": {},
   "outputs": [
    {
     "data": {
      "text/plain": [
       "71 days      1329\n",
       "1 days       1171\n",
       "320 days      940\n",
       "70 days       917\n",
       "72 days       890\n",
       "             ... \n",
       "3842 days       1\n",
       "3766 days       1\n",
       "2308 days       1\n",
       "3716 days       1\n",
       "2883 days       1\n",
       "Name: issue_retire_delta, Length: 3534, dtype: int64"
      ]
     },
     "execution_count": 367,
     "metadata": {},
     "output_type": "execute_result"
    }
   ],
   "source": [
    "rets['issue_retire_delta'].value_counts()"
   ]
  },
  {
   "cell_type": "code",
   "execution_count": 368,
   "id": "14344e09-88b4-438b-8100-b30b4b4fd814",
   "metadata": {},
   "outputs": [
    {
     "data": {
      "text/plain": [
       "1206 days    2132\n",
       "1207 days    1748\n",
       "1208 days    1642\n",
       "2301 days    1090\n",
       "1209 days     791\n",
       "             ... \n",
       "6057 days       1\n",
       "6064 days       1\n",
       "6067 days       1\n",
       "6070 days       1\n",
       "5087 days       1\n",
       "Name: vintage_retire_delta, Length: 5539, dtype: int64"
      ]
     },
     "execution_count": 368,
     "metadata": {},
     "output_type": "execute_result"
    }
   ],
   "source": [
    "rets['vintage_retire_delta'].value_counts()"
   ]
  },
  {
   "cell_type": "code",
   "execution_count": 369,
   "id": "f0ea7ecf-8759-446f-ad4e-2874eec387a1",
   "metadata": {},
   "outputs": [
    {
     "data": {
      "text/plain": [
       "2303 days    5126\n",
       "1923 days    3577\n",
       "3644 days    3525\n",
       "1129 days    3415\n",
       "1135 days    2947\n",
       "             ... \n",
       "2847 days       1\n",
       "4553 days       1\n",
       "3456 days       1\n",
       "2843 days       1\n",
       "145 days        1\n",
       "Name: vintage_issuance_delta, Length: 3268, dtype: int64"
      ]
     },
     "execution_count": 369,
     "metadata": {},
     "output_type": "execute_result"
    }
   ],
   "source": [
    "rets['vintage_issuance_delta'].value_counts()"
   ]
  },
  {
   "cell_type": "code",
   "execution_count": 370,
   "id": "d937e3f2-6105-40fa-b9d1-103abb166cbc",
   "metadata": {},
   "outputs": [],
   "source": [
    "rets['is_blank'] = rets['Retirement Beneficiary'].isnull()"
   ]
  },
  {
   "cell_type": "code",
   "execution_count": 371,
   "id": "6685857e-9711-4a7b-8b82-4e142e71dd9e",
   "metadata": {},
   "outputs": [
    {
     "data": {
      "text/plain": [
       "False    73270\n",
       "True     72654\n",
       "Name: is_blank, dtype: int64"
      ]
     },
     "execution_count": 371,
     "metadata": {},
     "output_type": "execute_result"
    }
   ],
   "source": [
    "rets['is_blank'].value_counts()"
   ]
  },
  {
   "cell_type": "markdown",
   "id": "80a19a3b-3d66-4b42-88e8-66d80b8cf206",
   "metadata": {},
   "source": [
    "### Join Mapping Data"
   ]
  },
  {
   "cell_type": "code",
   "execution_count": 372,
   "id": "4a97c70d-71a3-42d2-a7e1-2e25bd1b516d",
   "metadata": {},
   "outputs": [],
   "source": [
    "mapping = pd.read_excel('./MAPPING_subset.xlsx')"
   ]
  },
  {
   "cell_type": "code",
   "execution_count": 373,
   "id": "c56b7ec2-4ae5-48f1-883d-77a24f9759fc",
   "metadata": {},
   "outputs": [
    {
     "data": {
      "text/plain": [
       "Index(['ID', 'technology', 'category'], dtype='object')"
      ]
     },
     "execution_count": 373,
     "metadata": {},
     "output_type": "execute_result"
    }
   ],
   "source": [
    "mapping.columns"
   ]
  },
  {
   "cell_type": "code",
   "execution_count": 374,
   "id": "a29d99c9-ec1d-4ed9-824e-90c9d14e10d5",
   "metadata": {},
   "outputs": [],
   "source": [
    "mapping['ID'] = mapping.ID.astype(int)"
   ]
  },
  {
   "cell_type": "code",
   "execution_count": 375,
   "id": "b97124ff-2f1f-47b8-ba37-d052a8f1a18d",
   "metadata": {},
   "outputs": [],
   "source": [
    "mapping = mapping[['ID', 'technology', 'category']]"
   ]
  },
  {
   "cell_type": "code",
   "execution_count": 376,
   "id": "05c8857a-1a73-43c3-966b-02d0ac6478b4",
   "metadata": {},
   "outputs": [
    {
     "data": {
      "text/html": [
       "<div>\n",
       "<style scoped>\n",
       "    .dataframe tbody tr th:only-of-type {\n",
       "        vertical-align: middle;\n",
       "    }\n",
       "\n",
       "    .dataframe tbody tr th {\n",
       "        vertical-align: top;\n",
       "    }\n",
       "\n",
       "    .dataframe thead th {\n",
       "        text-align: right;\n",
       "    }\n",
       "</style>\n",
       "<table border=\"1\" class=\"dataframe\">\n",
       "  <thead>\n",
       "    <tr style=\"text-align: right;\">\n",
       "      <th></th>\n",
       "      <th>ID</th>\n",
       "      <th>technology</th>\n",
       "      <th>category</th>\n",
       "    </tr>\n",
       "  </thead>\n",
       "  <tbody>\n",
       "    <tr>\n",
       "      <th>0</th>\n",
       "      <td>2592</td>\n",
       "      <td>LFG</td>\n",
       "      <td>EE</td>\n",
       "    </tr>\n",
       "    <tr>\n",
       "      <th>1</th>\n",
       "      <td>2588</td>\n",
       "      <td>WIND</td>\n",
       "      <td>RE</td>\n",
       "    </tr>\n",
       "    <tr>\n",
       "      <th>2</th>\n",
       "      <td>2557</td>\n",
       "      <td>Water purification</td>\n",
       "      <td>WATER PURIFICATION</td>\n",
       "    </tr>\n",
       "    <tr>\n",
       "      <th>3</th>\n",
       "      <td>2537</td>\n",
       "      <td>WASTE</td>\n",
       "      <td>EE</td>\n",
       "    </tr>\n",
       "    <tr>\n",
       "      <th>4</th>\n",
       "      <td>2533</td>\n",
       "      <td>COOKSTOVES</td>\n",
       "      <td>EE SMALL SCALE</td>\n",
       "    </tr>\n",
       "  </tbody>\n",
       "</table>\n",
       "</div>"
      ],
      "text/plain": [
       "     ID          technology            category\n",
       "0  2592                 LFG                  EE\n",
       "1  2588                WIND                  RE\n",
       "2  2557  Water purification  WATER PURIFICATION\n",
       "3  2537               WASTE                  EE\n",
       "4  2533          COOKSTOVES      EE SMALL SCALE"
      ]
     },
     "execution_count": 376,
     "metadata": {},
     "output_type": "execute_result"
    }
   ],
   "source": [
    "mapping.head()"
   ]
  },
  {
   "cell_type": "code",
   "execution_count": 377,
   "id": "925e0fa4-7731-4c2d-915a-a66a370e6867",
   "metadata": {},
   "outputs": [
    {
     "data": {
      "text/plain": [
       "ID             int64\n",
       "technology    object\n",
       "category      object\n",
       "dtype: object"
      ]
     },
     "execution_count": 377,
     "metadata": {},
     "output_type": "execute_result"
    }
   ],
   "source": [
    "mapping.dtypes"
   ]
  },
  {
   "cell_type": "code",
   "execution_count": 378,
   "id": "45297b5d-4b6e-49c0-8d54-2b999d939a96",
   "metadata": {},
   "outputs": [],
   "source": [
    "rets = pd.merge(rets, mapping, on='ID')"
   ]
  },
  {
   "cell_type": "code",
   "execution_count": 379,
   "id": "25101a38-89a2-40c0-9831-5ae3d6c74ecc",
   "metadata": {},
   "outputs": [
    {
     "data": {
      "text/plain": [
       "Index(['Issuance Date', 'Sustainable Development Goals', 'Credit Type',\n",
       "       'Vintage Start', 'Vintage End', 'Reporting Period Start',\n",
       "       'Reporting Period End', 'ID', 'Name', 'Region', 'Country',\n",
       "       'Project Type', 'Methodology', 'Vintage Quantity', 'Quantity',\n",
       "       'Serial Number', 'Additional Certifications', 'Is Cancelled',\n",
       "       'Retirement/Cancellation Date', 'Retirement Beneficiary',\n",
       "       'Retirement Reason', 'Retirement Details', 'Input Type', 'Holding ID',\n",
       "       'Vintage', 'Issuance Year', 'Days to Retirement', 'Staleness', 'Status',\n",
       "       'Toucan', 'Toucan Bridger', 'Toucan Blacklisted', 'Country Code',\n",
       "       'Vintaged Batch Years', 'has_ac', 'issue_retire_delta',\n",
       "       'vintage_retire_delta', 'vintage_issuance_delta', 'is_blank',\n",
       "       'technology', 'category'],\n",
       "      dtype='object')"
      ]
     },
     "execution_count": 379,
     "metadata": {},
     "output_type": "execute_result"
    }
   ],
   "source": [
    "rets.columns"
   ]
  },
  {
   "cell_type": "code",
   "execution_count": 380,
   "id": "05675e50-505c-4948-9886-480d782089c6",
   "metadata": {},
   "outputs": [
    {
     "data": {
      "text/plain": [
       "REDD+             79068\n",
       "RE                24963\n",
       "EE                13226\n",
       "HYDRO             11941\n",
       "AFF/REFO           8867\n",
       "EE SMALL SCALE     1319\n",
       "BLUE CARBON         187\n",
       "IFM                 116\n",
       "Name: category, dtype: int64"
      ]
     },
     "execution_count": 380,
     "metadata": {},
     "output_type": "execute_result"
    }
   ],
   "source": [
    "rets.category.value_counts()"
   ]
  },
  {
   "cell_type": "code",
   "execution_count": 381,
   "id": "1672ac8e-9a4d-4610-b298-abec904f1dce",
   "metadata": {},
   "outputs": [
    {
     "data": {
      "text/plain": [
       "REDD+                         78469\n",
       "WIND                          21324\n",
       "HYDRO                         11941\n",
       "AFFORESTATION                  8103\n",
       "SOLAR                          2501\n",
       "EE GAS                         2172\n",
       "FUEL SWITCH                    2149\n",
       "BIOMASS                        1925\n",
       "FUGITIVE EMISSIONS             1781\n",
       "WASTE                          1408\n",
       "LFG                            1314\n",
       "MINING EMISSIONS REDUCTION     1190\n",
       "BIOGAS                          940\n",
       "REFORESTATION                   764\n",
       "COOKSTOVES                      604\n",
       "SOIL CARBON                     583\n",
       "GEOTHERMAL                      440\n",
       "SOLAR COOKERS                   425\n",
       "SMALL HYDRO                     362\n",
       "ROR HYDRO                       266\n",
       "MANGROVE                        187\n",
       "EE LIGHTING                     132\n",
       "IFM                             116\n",
       "LNG                             112\n",
       "EE UNIVERSITY                   103\n",
       "EE IRRIGATION                    76\n",
       "WIND & SOLAR                     70\n",
       "COGENERATION                     68\n",
       "WATER MANAGEMENT                 57\n",
       "EE MANUFACTURE                   48\n",
       "GRASS LAND                       16\n",
       "EE HOUSEHOLDS                    15\n",
       "EE LIGHTING                      10\n",
       "METHANE                           6\n",
       "INCINERATION                      4\n",
       "TRANSPORATION                     4\n",
       "Waste                             2\n",
       "Name: technology, dtype: int64"
      ]
     },
     "execution_count": 381,
     "metadata": {},
     "output_type": "execute_result"
    }
   ],
   "source": [
    "rets.technology.value_counts()"
   ]
  },
  {
   "cell_type": "code",
   "execution_count": 382,
   "id": "d4a799df-4f18-4e79-bc48-6c6a62dc2a58",
   "metadata": {},
   "outputs": [],
   "source": [
    "rets.to_csv(\"./retirements.csv\", escapechar=\"\\\\\", index=False)"
   ]
  },
  {
   "cell_type": "markdown",
   "id": "1f1fbebb-6562-4553-b433-0b654c63db2e",
   "metadata": {},
   "source": [
    "### On-Chain Comparison"
   ]
  },
  {
   "cell_type": "code",
   "execution_count": 383,
   "id": "6ef9646c-7fb2-4ef9-b875-530dfa51250e",
   "metadata": {},
   "outputs": [],
   "source": [
    "tokens = vcus[vcus['Toucan']]"
   ]
  },
  {
   "cell_type": "code",
   "execution_count": 384,
   "id": "6651d788-650c-428b-93dd-9d333c721f3e",
   "metadata": {},
   "outputs": [
    {
     "data": {
      "text/html": [
       "<div>\n",
       "<style scoped>\n",
       "    .dataframe tbody tr th:only-of-type {\n",
       "        vertical-align: middle;\n",
       "    }\n",
       "\n",
       "    .dataframe tbody tr th {\n",
       "        vertical-align: top;\n",
       "    }\n",
       "\n",
       "    .dataframe thead th {\n",
       "        text-align: right;\n",
       "    }\n",
       "</style>\n",
       "<table border=\"1\" class=\"dataframe\">\n",
       "  <thead>\n",
       "    <tr style=\"text-align: right;\">\n",
       "      <th></th>\n",
       "      <th>Issuance Date</th>\n",
       "      <th>Sustainable Development Goals</th>\n",
       "      <th>Credit Type</th>\n",
       "      <th>Vintage Start</th>\n",
       "      <th>Vintage End</th>\n",
       "      <th>Reporting Period Start</th>\n",
       "      <th>Reporting Period End</th>\n",
       "      <th>ID</th>\n",
       "      <th>Name</th>\n",
       "      <th>Region</th>\n",
       "      <th>...</th>\n",
       "      <th>Issuance Year</th>\n",
       "      <th>Days to Retirement</th>\n",
       "      <th>Staleness</th>\n",
       "      <th>Status</th>\n",
       "      <th>Toucan</th>\n",
       "      <th>Toucan Bridger</th>\n",
       "      <th>Toucan Blacklisted</th>\n",
       "      <th>Country Code</th>\n",
       "      <th>Vintaged Batch Years</th>\n",
       "      <th>has_ac</th>\n",
       "    </tr>\n",
       "  </thead>\n",
       "  <tbody>\n",
       "    <tr>\n",
       "      <th>472</th>\n",
       "      <td>2022-02-25</td>\n",
       "      <td>None</td>\n",
       "      <td>VCU</td>\n",
       "      <td>2008-01-01</td>\n",
       "      <td>2008-12-31</td>\n",
       "      <td>2008-01-01</td>\n",
       "      <td>2008-12-31</td>\n",
       "      <td>309</td>\n",
       "      <td>Bundled grid-connected wind electricity genera...</td>\n",
       "      <td>Asia</td>\n",
       "      <td>...</td>\n",
       "      <td>2022</td>\n",
       "      <td>8.0</td>\n",
       "      <td>NaN</td>\n",
       "      <td>Retired</td>\n",
       "      <td>True</td>\n",
       "      <td>https://polygonscan.com/address/0xF36729fBfcdE...</td>\n",
       "      <td>False</td>\n",
       "      <td>IND</td>\n",
       "      <td>1.000000</td>\n",
       "      <td>False</td>\n",
       "    </tr>\n",
       "    <tr>\n",
       "      <th>473</th>\n",
       "      <td>2022-02-25</td>\n",
       "      <td>None</td>\n",
       "      <td>VCU</td>\n",
       "      <td>2009-01-01</td>\n",
       "      <td>2009-09-01</td>\n",
       "      <td>2009-01-01</td>\n",
       "      <td>2009-09-01</td>\n",
       "      <td>309</td>\n",
       "      <td>Bundled grid-connected wind electricity genera...</td>\n",
       "      <td>Asia</td>\n",
       "      <td>...</td>\n",
       "      <td>2022</td>\n",
       "      <td>8.0</td>\n",
       "      <td>NaN</td>\n",
       "      <td>Retired</td>\n",
       "      <td>True</td>\n",
       "      <td>https://polygonscan.com/address/0xF36729fBfcdE...</td>\n",
       "      <td>False</td>\n",
       "      <td>IND</td>\n",
       "      <td>0.665753</td>\n",
       "      <td>False</td>\n",
       "    </tr>\n",
       "    <tr>\n",
       "      <th>679</th>\n",
       "      <td>2022-02-10</td>\n",
       "      <td>None</td>\n",
       "      <td>VCU</td>\n",
       "      <td>2011-07-01</td>\n",
       "      <td>2011-12-31</td>\n",
       "      <td>2011-07-01</td>\n",
       "      <td>2011-12-31</td>\n",
       "      <td>584</td>\n",
       "      <td>2.5 MW Rice husk based cogeneration plant at H...</td>\n",
       "      <td>Asia</td>\n",
       "      <td>...</td>\n",
       "      <td>2022</td>\n",
       "      <td>23.0</td>\n",
       "      <td>NaN</td>\n",
       "      <td>Retired</td>\n",
       "      <td>True</td>\n",
       "      <td>https://polygonscan.com/address/0xF36729fBfcdE...</td>\n",
       "      <td>False</td>\n",
       "      <td>IND</td>\n",
       "      <td>0.501370</td>\n",
       "      <td>False</td>\n",
       "    </tr>\n",
       "    <tr>\n",
       "      <th>771</th>\n",
       "      <td>2022-01-31</td>\n",
       "      <td>None</td>\n",
       "      <td>VCU</td>\n",
       "      <td>2009-01-01</td>\n",
       "      <td>2009-12-31</td>\n",
       "      <td>2009-01-01</td>\n",
       "      <td>2009-12-31</td>\n",
       "      <td>1094</td>\n",
       "      <td>Ecomapua Amazon REDD Project</td>\n",
       "      <td>Latin America</td>\n",
       "      <td>...</td>\n",
       "      <td>2022</td>\n",
       "      <td>24.0</td>\n",
       "      <td>NaN</td>\n",
       "      <td>Retired</td>\n",
       "      <td>True</td>\n",
       "      <td>https://polygonscan.com/address/0xD659a73BdBC4...</td>\n",
       "      <td>False</td>\n",
       "      <td>BRA</td>\n",
       "      <td>0.997260</td>\n",
       "      <td>True</td>\n",
       "    </tr>\n",
       "    <tr>\n",
       "      <th>1140</th>\n",
       "      <td>2022-01-04</td>\n",
       "      <td>None</td>\n",
       "      <td>VCU</td>\n",
       "      <td>2020-01-01</td>\n",
       "      <td>2020-12-31</td>\n",
       "      <td>2020-01-01</td>\n",
       "      <td>2020-12-31</td>\n",
       "      <td>728</td>\n",
       "      <td>CECIC Gansu Yumen Changma No.3 Wind Farm Project</td>\n",
       "      <td>Asia</td>\n",
       "      <td>...</td>\n",
       "      <td>2022</td>\n",
       "      <td>2.0</td>\n",
       "      <td>NaN</td>\n",
       "      <td>Retired</td>\n",
       "      <td>True</td>\n",
       "      <td>https://polygonscan.com/address/0x20307a574d5b...</td>\n",
       "      <td>False</td>\n",
       "      <td>CHN</td>\n",
       "      <td>1.000000</td>\n",
       "      <td>False</td>\n",
       "    </tr>\n",
       "  </tbody>\n",
       "</table>\n",
       "<p>5 rows × 35 columns</p>\n",
       "</div>"
      ],
      "text/plain": [
       "     Issuance Date Sustainable Development Goals Credit Type Vintage Start  \\\n",
       "472     2022-02-25                          None         VCU    2008-01-01   \n",
       "473     2022-02-25                          None         VCU    2009-01-01   \n",
       "679     2022-02-10                          None         VCU    2011-07-01   \n",
       "771     2022-01-31                          None         VCU    2009-01-01   \n",
       "1140    2022-01-04                          None         VCU    2020-01-01   \n",
       "\n",
       "     Vintage End Reporting Period Start Reporting Period End    ID  \\\n",
       "472   2008-12-31             2008-01-01           2008-12-31   309   \n",
       "473   2009-09-01             2009-01-01           2009-09-01   309   \n",
       "679   2011-12-31             2011-07-01           2011-12-31   584   \n",
       "771   2009-12-31             2009-01-01           2009-12-31  1094   \n",
       "1140  2020-12-31             2020-01-01           2020-12-31   728   \n",
       "\n",
       "                                                   Name         Region  ...  \\\n",
       "472   Bundled grid-connected wind electricity genera...           Asia  ...   \n",
       "473   Bundled grid-connected wind electricity genera...           Asia  ...   \n",
       "679   2.5 MW Rice husk based cogeneration plant at H...           Asia  ...   \n",
       "771                        Ecomapua Amazon REDD Project  Latin America  ...   \n",
       "1140   CECIC Gansu Yumen Changma No.3 Wind Farm Project           Asia  ...   \n",
       "\n",
       "     Issuance Year Days to Retirement Staleness   Status  Toucan  \\\n",
       "472           2022                8.0       NaN  Retired    True   \n",
       "473           2022                8.0       NaN  Retired    True   \n",
       "679           2022               23.0       NaN  Retired    True   \n",
       "771           2022               24.0       NaN  Retired    True   \n",
       "1140          2022                2.0       NaN  Retired    True   \n",
       "\n",
       "                                         Toucan Bridger Toucan Blacklisted  \\\n",
       "472   https://polygonscan.com/address/0xF36729fBfcdE...              False   \n",
       "473   https://polygonscan.com/address/0xF36729fBfcdE...              False   \n",
       "679   https://polygonscan.com/address/0xF36729fBfcdE...              False   \n",
       "771   https://polygonscan.com/address/0xD659a73BdBC4...              False   \n",
       "1140  https://polygonscan.com/address/0x20307a574d5b...              False   \n",
       "\n",
       "      Country Code Vintaged Batch Years has_ac  \n",
       "472            IND             1.000000  False  \n",
       "473            IND             0.665753  False  \n",
       "679            IND             0.501370  False  \n",
       "771            BRA             0.997260   True  \n",
       "1140           CHN             1.000000  False  \n",
       "\n",
       "[5 rows x 35 columns]"
      ]
     },
     "execution_count": 384,
     "metadata": {},
     "output_type": "execute_result"
    }
   ],
   "source": [
    "tokens.head()"
   ]
  },
  {
   "cell_type": "code",
   "execution_count": 385,
   "id": "536b7ec2-946f-4e75-a44e-953175d514f0",
   "metadata": {},
   "outputs": [],
   "source": [
    "tokens = pd.merge(tokens,mapping, on=\"ID\")"
   ]
  },
  {
   "cell_type": "code",
   "execution_count": 386,
   "id": "f74416de-789f-4286-9994-4ddae9789fa3",
   "metadata": {},
   "outputs": [
    {
     "data": {
      "text/html": [
       "<div>\n",
       "<style scoped>\n",
       "    .dataframe tbody tr th:only-of-type {\n",
       "        vertical-align: middle;\n",
       "    }\n",
       "\n",
       "    .dataframe tbody tr th {\n",
       "        vertical-align: top;\n",
       "    }\n",
       "\n",
       "    .dataframe thead th {\n",
       "        text-align: right;\n",
       "    }\n",
       "</style>\n",
       "<table border=\"1\" class=\"dataframe\">\n",
       "  <thead>\n",
       "    <tr style=\"text-align: right;\">\n",
       "      <th></th>\n",
       "      <th>Issuance Date</th>\n",
       "      <th>Sustainable Development Goals</th>\n",
       "      <th>Credit Type</th>\n",
       "      <th>Vintage Start</th>\n",
       "      <th>Vintage End</th>\n",
       "      <th>Reporting Period Start</th>\n",
       "      <th>Reporting Period End</th>\n",
       "      <th>ID</th>\n",
       "      <th>Name</th>\n",
       "      <th>Region</th>\n",
       "      <th>...</th>\n",
       "      <th>Staleness</th>\n",
       "      <th>Status</th>\n",
       "      <th>Toucan</th>\n",
       "      <th>Toucan Bridger</th>\n",
       "      <th>Toucan Blacklisted</th>\n",
       "      <th>Country Code</th>\n",
       "      <th>Vintaged Batch Years</th>\n",
       "      <th>has_ac</th>\n",
       "      <th>technology</th>\n",
       "      <th>category</th>\n",
       "    </tr>\n",
       "  </thead>\n",
       "  <tbody>\n",
       "    <tr>\n",
       "      <th>0</th>\n",
       "      <td>2022-02-25</td>\n",
       "      <td>None</td>\n",
       "      <td>VCU</td>\n",
       "      <td>2008-01-01</td>\n",
       "      <td>2008-12-31</td>\n",
       "      <td>2008-01-01</td>\n",
       "      <td>2008-12-31</td>\n",
       "      <td>309</td>\n",
       "      <td>Bundled grid-connected wind electricity genera...</td>\n",
       "      <td>Asia</td>\n",
       "      <td>...</td>\n",
       "      <td>NaN</td>\n",
       "      <td>Retired</td>\n",
       "      <td>True</td>\n",
       "      <td>https://polygonscan.com/address/0xF36729fBfcdE...</td>\n",
       "      <td>False</td>\n",
       "      <td>IND</td>\n",
       "      <td>1.000000</td>\n",
       "      <td>False</td>\n",
       "      <td>WIND</td>\n",
       "      <td>RE</td>\n",
       "    </tr>\n",
       "    <tr>\n",
       "      <th>1</th>\n",
       "      <td>2022-02-25</td>\n",
       "      <td>None</td>\n",
       "      <td>VCU</td>\n",
       "      <td>2009-01-01</td>\n",
       "      <td>2009-09-01</td>\n",
       "      <td>2009-01-01</td>\n",
       "      <td>2009-09-01</td>\n",
       "      <td>309</td>\n",
       "      <td>Bundled grid-connected wind electricity genera...</td>\n",
       "      <td>Asia</td>\n",
       "      <td>...</td>\n",
       "      <td>NaN</td>\n",
       "      <td>Retired</td>\n",
       "      <td>True</td>\n",
       "      <td>https://polygonscan.com/address/0xF36729fBfcdE...</td>\n",
       "      <td>False</td>\n",
       "      <td>IND</td>\n",
       "      <td>0.665753</td>\n",
       "      <td>False</td>\n",
       "      <td>WIND</td>\n",
       "      <td>RE</td>\n",
       "    </tr>\n",
       "    <tr>\n",
       "      <th>2</th>\n",
       "      <td>2022-02-10</td>\n",
       "      <td>None</td>\n",
       "      <td>VCU</td>\n",
       "      <td>2011-07-01</td>\n",
       "      <td>2011-12-31</td>\n",
       "      <td>2011-07-01</td>\n",
       "      <td>2011-12-31</td>\n",
       "      <td>584</td>\n",
       "      <td>2.5 MW Rice husk based cogeneration plant at H...</td>\n",
       "      <td>Asia</td>\n",
       "      <td>...</td>\n",
       "      <td>NaN</td>\n",
       "      <td>Retired</td>\n",
       "      <td>True</td>\n",
       "      <td>https://polygonscan.com/address/0xF36729fBfcdE...</td>\n",
       "      <td>False</td>\n",
       "      <td>IND</td>\n",
       "      <td>0.501370</td>\n",
       "      <td>False</td>\n",
       "      <td>BIOMASS</td>\n",
       "      <td>EE</td>\n",
       "    </tr>\n",
       "    <tr>\n",
       "      <th>3</th>\n",
       "      <td>2022-01-31</td>\n",
       "      <td>None</td>\n",
       "      <td>VCU</td>\n",
       "      <td>2009-01-01</td>\n",
       "      <td>2009-12-31</td>\n",
       "      <td>2009-01-01</td>\n",
       "      <td>2009-12-31</td>\n",
       "      <td>1094</td>\n",
       "      <td>Ecomapua Amazon REDD Project</td>\n",
       "      <td>Latin America</td>\n",
       "      <td>...</td>\n",
       "      <td>NaN</td>\n",
       "      <td>Retired</td>\n",
       "      <td>True</td>\n",
       "      <td>https://polygonscan.com/address/0xD659a73BdBC4...</td>\n",
       "      <td>False</td>\n",
       "      <td>BRA</td>\n",
       "      <td>0.997260</td>\n",
       "      <td>True</td>\n",
       "      <td>REDD+</td>\n",
       "      <td>REDD+</td>\n",
       "    </tr>\n",
       "    <tr>\n",
       "      <th>4</th>\n",
       "      <td>2020-12-03</td>\n",
       "      <td>None</td>\n",
       "      <td>VCU</td>\n",
       "      <td>2009-01-01</td>\n",
       "      <td>2009-12-31</td>\n",
       "      <td>2009-01-01</td>\n",
       "      <td>2009-12-31</td>\n",
       "      <td>1094</td>\n",
       "      <td>Ecomapua Amazon REDD Project</td>\n",
       "      <td>Latin America</td>\n",
       "      <td>...</td>\n",
       "      <td>NaN</td>\n",
       "      <td>Retired</td>\n",
       "      <td>True</td>\n",
       "      <td>https://polygonscan.com/address/0xD659a73BdBC4...</td>\n",
       "      <td>False</td>\n",
       "      <td>BRA</td>\n",
       "      <td>0.997260</td>\n",
       "      <td>True</td>\n",
       "      <td>REDD+</td>\n",
       "      <td>REDD+</td>\n",
       "    </tr>\n",
       "  </tbody>\n",
       "</table>\n",
       "<p>5 rows × 37 columns</p>\n",
       "</div>"
      ],
      "text/plain": [
       "  Issuance Date Sustainable Development Goals Credit Type Vintage Start  \\\n",
       "0    2022-02-25                          None         VCU    2008-01-01   \n",
       "1    2022-02-25                          None         VCU    2009-01-01   \n",
       "2    2022-02-10                          None         VCU    2011-07-01   \n",
       "3    2022-01-31                          None         VCU    2009-01-01   \n",
       "4    2020-12-03                          None         VCU    2009-01-01   \n",
       "\n",
       "  Vintage End Reporting Period Start Reporting Period End    ID  \\\n",
       "0  2008-12-31             2008-01-01           2008-12-31   309   \n",
       "1  2009-09-01             2009-01-01           2009-09-01   309   \n",
       "2  2011-12-31             2011-07-01           2011-12-31   584   \n",
       "3  2009-12-31             2009-01-01           2009-12-31  1094   \n",
       "4  2009-12-31             2009-01-01           2009-12-31  1094   \n",
       "\n",
       "                                                Name         Region  ...  \\\n",
       "0  Bundled grid-connected wind electricity genera...           Asia  ...   \n",
       "1  Bundled grid-connected wind electricity genera...           Asia  ...   \n",
       "2  2.5 MW Rice husk based cogeneration plant at H...           Asia  ...   \n",
       "3                       Ecomapua Amazon REDD Project  Latin America  ...   \n",
       "4                       Ecomapua Amazon REDD Project  Latin America  ...   \n",
       "\n",
       "  Staleness   Status Toucan  \\\n",
       "0       NaN  Retired   True   \n",
       "1       NaN  Retired   True   \n",
       "2       NaN  Retired   True   \n",
       "3       NaN  Retired   True   \n",
       "4       NaN  Retired   True   \n",
       "\n",
       "                                      Toucan Bridger  Toucan Blacklisted  \\\n",
       "0  https://polygonscan.com/address/0xF36729fBfcdE...               False   \n",
       "1  https://polygonscan.com/address/0xF36729fBfcdE...               False   \n",
       "2  https://polygonscan.com/address/0xF36729fBfcdE...               False   \n",
       "3  https://polygonscan.com/address/0xD659a73BdBC4...               False   \n",
       "4  https://polygonscan.com/address/0xD659a73BdBC4...               False   \n",
       "\n",
       "  Country Code Vintaged Batch Years  has_ac technology category  \n",
       "0          IND             1.000000   False       WIND       RE  \n",
       "1          IND             0.665753   False       WIND       RE  \n",
       "2          IND             0.501370   False    BIOMASS       EE  \n",
       "3          BRA             0.997260    True      REDD+    REDD+  \n",
       "4          BRA             0.997260    True      REDD+    REDD+  \n",
       "\n",
       "[5 rows x 37 columns]"
      ]
     },
     "execution_count": 386,
     "metadata": {},
     "output_type": "execute_result"
    }
   ],
   "source": [
    "tokens.head()"
   ]
  },
  {
   "cell_type": "code",
   "execution_count": 387,
   "id": "b74e2a3c-2d4a-4715-a45c-5574aae247b0",
   "metadata": {},
   "outputs": [
    {
     "data": {
      "text/plain": [
       "category        technology                \n",
       "AFF/REFO        AFFORESTATION                      772\n",
       "BLUE CARBON     MANGROVE                          4200\n",
       "EE              BIOGAS                           19843\n",
       "                BIOMASS                         361758\n",
       "                COGENERATION                     91786\n",
       "                EE GAS                         2490788\n",
       "                FUGITIVE EMISSIONS              877598\n",
       "                INCINERATION                    274090\n",
       "                LFG                             392358\n",
       "                LNG                              45150\n",
       "                METHANE                           6994\n",
       "                MINING EMISSIONS REDUCTION        3442\n",
       "                WASTE                           609742\n",
       "EE SMALL SCALE  SOLAR COOKERS                    55682\n",
       "HYDRO           HYDRO                         11067372\n",
       "IFM             IFM                             409706\n",
       "RE              ROR HYDRO                       401845\n",
       "                SMALL HYDRO                      27293\n",
       "                SOLAR                            76481\n",
       "                WIND                           1624752\n",
       "                WIND & SOLAR                         2\n",
       "REDD+           REDD+                          1755802\n",
       "Name: Quantity, dtype: int64"
      ]
     },
     "execution_count": 387,
     "metadata": {},
     "output_type": "execute_result"
    }
   ],
   "source": [
    "tokens.groupby(['category', 'technology']).sum(\"Quantity\")['Quantity']"
   ]
  },
  {
   "cell_type": "code",
   "execution_count": 388,
   "id": "865c9782-e265-48c6-9ae0-876ba3d1946a",
   "metadata": {},
   "outputs": [],
   "source": [
    "tokens.to_csv(\"./tokenized_carbon.csv\", escapechar=\"\\\\\", index=False)"
   ]
  }
 ],
 "metadata": {
  "kernelspec": {
   "display_name": "Python 3 (ipykernel)",
   "language": "python",
   "name": "python3"
  },
  "language_info": {
   "codemirror_mode": {
    "name": "ipython",
    "version": 3
   },
   "file_extension": ".py",
   "mimetype": "text/x-python",
   "name": "python",
   "nbconvert_exporter": "python",
   "pygments_lexer": "ipython3",
   "version": "3.10.4"
  }
 },
 "nbformat": 4,
 "nbformat_minor": 5
}
